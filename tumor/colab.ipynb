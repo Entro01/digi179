# Importing necessary libraries
import tensorflow as tf
from tensorflow.keras.preprocessing.image import ImageDataGenerator

# Data augmentation
# Preprocess the validation dataset
valid_gen = datagen.flow_from_directory(directory="train",
                                   target_size=(224,224),
                                   color_mode="rgb",
                                   subset="validation",
                                   class_mode="binary",
                                   batch_size=32,
                                   shuffle=True)

# Display some images from the training set
import matplotlib.pyplot as plt
def displayImages(images):
  fig, axes = plt.subplots(1, 5, figsize=(20, 20))
  axes = axes.flatten()
  for img, ax in zip(images, axes):
      ax.imshow(img)
  plt.tight_layout()
  plt.show()

# Get five images from the training set
display_images = [training_dataset[0][0][0] for i in range(5)]
displayImages(display_images)

# Class indices
class_indices = {'no': 0, 'yes': 1}

# Define batch size and image shape
BATCH_SIZE = 5
IMG_SHAPE = 224

# Load MobileNet
URL = "https://tfhub.dev/google/tf2-preview/mobilenet_v2/feature_vector/4"
mobile_net = hub.KerasLayer(URL, input_shape=(IMG_SHAPE, IMG_SHAPE, 3))
mobile_net.trainable = False

# Create the model
model = tf.keras.models.Sequential([
   mobile_net,
   ### ANN layer
   tf.keras.layers.Dense(1, activation='sigmoid') #[0, 1] or [1, 0]
   ])

# Compile the model
model.compile(optimizer='adam',
             loss='binary_crossentropy',
             metrics=['accuracy'])

# Fit the model
history = model.fit(
   training_dataset,
   epochs=10,
   validation_data=valid_gen
   )

# Importing necessary libraries
import numpy as np
from tensorflow.keras.preprocessing import image
from tensorflow.keras.models import load_model

# Load test image
test_img = image.load_img('9.jpg', target_size = (224,224))
test_img = image.img_to_array(test_img)
test_img = test_img / 255
test_img = np.expand_dims(test_img, axis = 0)

# Make prediction
prediction = model.predict(test_img)
print(prediction)

# Interpret the prediction
if prediction[0] <= 0.5:
   print("No Brain Tumor")
else:
   print("Brain Tumor")

# Save the model
model.save('brain_tumor_model.h5')
